{
  "cells": [
    {
      "cell_type": "markdown",
      "id": "33d3d951",
      "metadata": {
        "id": "33d3d951"
      },
      "source": [
        "\n",
        "</h1>\n",
        "\n",
        "<h1>\n",
        "<center>Report for Credit Card Approval Prediction</center>\n",
        "</h1>"
      ]
    },
    {
      "cell_type": "markdown",
      "id": "b30b8b30",
      "metadata": {
        "id": "b30b8b30"
      },
      "source": [
        "# 1. Introduction\n",
        "Credit score card is a common risk control method in the financial industry. It uses personal information and data submitted by credit card applicants to predict the probability of future defaults and credit card borrowings. The bank could use this kind of predicted probability to decide whether to issue a credit card to an applicant or not.\n",
        "If the future default rate is high, the bank would refuse to release the credit card to the applicant, otherwise the bank would release the card to the applicant.\n",
        "\n",
        "Credit cards is a form of unsecured credit (meaning a loan without collateral) that one can use to make everyday purchases in the limited credits. When someone buys something with a credit card, that means he/she borrows money from the credit card issuer, and later payment back to the lender with interest.\n",
        "\n",
        "Based on the property of credit card, the card issuers have the risk of defaults of clients\n",
        "\n",
        "The goal of my project is to bulid models to make prediction of the risk rate(default rate) about the applicant based on each person's personnal data."
      ]
    },
    {
      "cell_type": "markdown",
      "id": "dce6fc7f",
      "metadata": {
        "id": "dce6fc7f"
      },
      "source": [
        "# 2. Dataset Explaination\n",
        "* The target variable in the dataset named as \"Target\". 1 represts high risk, 0 represents low risk.\n",
        "* The goal is to predict the classification of the variable \"Target\", 1(high risk) or 0(low risk).\n",
        "* I searched the datasets from Kaggle. But the information of what bank, who are the people in the data, what's the date, etc. is not available. This kind of information is confident for the financial institution. It is not easy to access.\n",
        "* An instance in my data represents the personal message of a person. There are 21 columns in the initial dataset, including gender, occupation, property situation, children number, income, education level, etc., the details are interpreted in the following.\n",
        " * ID: client ID number\n",
        " * Gender: M: male; F: female\n",
        " * Own_car: Does client own a car? Y: yes; N: No\n",
        " * Own_property: Does client own property? Y: yes; N: No\n",
        " * Work_phone: Y: Does client own a work phone? Y: yes; N: No\n",
        " * Phone: Does client own a phone? Y: yes; N: No\n",
        " * Email: Does client have an email address? Y: yes; N: No\n",
        " * Unemployed: Is client unemployed? Y: yes; N: No\n",
        " * Num_children: How many children does client have?\n",
        " * Num_family: Number of family members\n",
        " * Account_length: Number of months credit card has been owned\n",
        " * Total_income: Total income of a year(Chinese Yuan)\n",
        " * Age: Age in years\n",
        " * Years_employed: Number of years employed\n",
        " * Income_type:\tIncome type\n",
        " * Education_type: Education type\n",
        " * Family_status: Family status\n",
        " * Housing_type: Housing type\n",
        " * Occupation_type:\tOccupation type\n",
        " * Target: Target Variable(1: high risk, 0: low risk)\n",
        "\n",
        "* I dropped the features of \"ID\", \"Unemployed\", and the index column, and keep the left features to predict the classification.\n"
      ]
    },
    {
      "cell_type": "markdown",
      "id": "bbd6965c",
      "metadata": {
        "id": "bbd6965c"
      },
      "source": [
        "# 2.1 Load the data"
      ]
    },
    {
      "cell_type": "code",
      "execution_count": null,
      "id": "cd028a2f",
      "metadata": {
        "id": "cd028a2f"
      },
      "outputs": [],
      "source": [
        "import os\n",
        "import pandas as pd\n",
        "data = pd.read_csv(\"data_clean.csv\")"
      ]
    },
    {
      "cell_type": "code",
      "execution_count": null,
      "id": "0faf842d",
      "metadata": {
        "scrolled": true,
        "id": "0faf842d",
        "outputId": "19361413-130c-4b4a-a9a3-194adcae1a6e"
      },
      "outputs": [
        {
          "data": {
            "text/html": [
              "<div>\n",
              "<style scoped>\n",
              "    .dataframe tbody tr th:only-of-type {\n",
              "        vertical-align: middle;\n",
              "    }\n",
              "\n",
              "    .dataframe tbody tr th {\n",
              "        vertical-align: top;\n",
              "    }\n",
              "\n",
              "    .dataframe thead th {\n",
              "        text-align: right;\n",
              "    }\n",
              "</style>\n",
              "<table border=\"1\" class=\"dataframe\">\n",
              "  <thead>\n",
              "    <tr style=\"text-align: right;\">\n",
              "      <th></th>\n",
              "      <th>Unnamed: 0</th>\n",
              "      <th>ID</th>\n",
              "      <th>Gender</th>\n",
              "      <th>Own_car</th>\n",
              "      <th>Own_property</th>\n",
              "      <th>Work_phone</th>\n",
              "      <th>Phone</th>\n",
              "      <th>Email</th>\n",
              "      <th>Unemployed</th>\n",
              "      <th>Num_children</th>\n",
              "      <th>...</th>\n",
              "      <th>Account_length</th>\n",
              "      <th>Total_income</th>\n",
              "      <th>Age</th>\n",
              "      <th>Years_employed</th>\n",
              "      <th>Income_type</th>\n",
              "      <th>Education_type</th>\n",
              "      <th>Family_status</th>\n",
              "      <th>Housing_type</th>\n",
              "      <th>Occupation_type</th>\n",
              "      <th>Target</th>\n",
              "    </tr>\n",
              "  </thead>\n",
              "  <tbody>\n",
              "    <tr>\n",
              "      <th>0</th>\n",
              "      <td>0</td>\n",
              "      <td>5008804</td>\n",
              "      <td>M</td>\n",
              "      <td>Y</td>\n",
              "      <td>Y</td>\n",
              "      <td>Y</td>\n",
              "      <td>N</td>\n",
              "      <td>N</td>\n",
              "      <td>N</td>\n",
              "      <td>0</td>\n",
              "      <td>...</td>\n",
              "      <td>15</td>\n",
              "      <td>427500.0</td>\n",
              "      <td>32.868574</td>\n",
              "      <td>12.435574</td>\n",
              "      <td>Working</td>\n",
              "      <td>Higher education</td>\n",
              "      <td>Civil marriage</td>\n",
              "      <td>Rented apartment</td>\n",
              "      <td>Other</td>\n",
              "      <td>1</td>\n",
              "    </tr>\n",
              "    <tr>\n",
              "      <th>1</th>\n",
              "      <td>1</td>\n",
              "      <td>5008806</td>\n",
              "      <td>M</td>\n",
              "      <td>Y</td>\n",
              "      <td>Y</td>\n",
              "      <td>N</td>\n",
              "      <td>N</td>\n",
              "      <td>N</td>\n",
              "      <td>N</td>\n",
              "      <td>0</td>\n",
              "      <td>...</td>\n",
              "      <td>29</td>\n",
              "      <td>112500.0</td>\n",
              "      <td>58.793815</td>\n",
              "      <td>3.104787</td>\n",
              "      <td>Working</td>\n",
              "      <td>Secondary / secondary special</td>\n",
              "      <td>Married</td>\n",
              "      <td>House / apartment</td>\n",
              "      <td>Security staff</td>\n",
              "      <td>0</td>\n",
              "    </tr>\n",
              "    <tr>\n",
              "      <th>2</th>\n",
              "      <td>2</td>\n",
              "      <td>5008808</td>\n",
              "      <td>F</td>\n",
              "      <td>N</td>\n",
              "      <td>Y</td>\n",
              "      <td>N</td>\n",
              "      <td>Y</td>\n",
              "      <td>Y</td>\n",
              "      <td>N</td>\n",
              "      <td>0</td>\n",
              "      <td>...</td>\n",
              "      <td>4</td>\n",
              "      <td>270000.0</td>\n",
              "      <td>52.321403</td>\n",
              "      <td>8.353354</td>\n",
              "      <td>Commercial associate</td>\n",
              "      <td>Secondary / secondary special</td>\n",
              "      <td>Single / not married</td>\n",
              "      <td>House / apartment</td>\n",
              "      <td>Sales staff</td>\n",
              "      <td>0</td>\n",
              "    </tr>\n",
              "    <tr>\n",
              "      <th>3</th>\n",
              "      <td>3</td>\n",
              "      <td>5008812</td>\n",
              "      <td>F</td>\n",
              "      <td>N</td>\n",
              "      <td>Y</td>\n",
              "      <td>N</td>\n",
              "      <td>N</td>\n",
              "      <td>N</td>\n",
              "      <td>Y</td>\n",
              "      <td>0</td>\n",
              "      <td>...</td>\n",
              "      <td>20</td>\n",
              "      <td>283500.0</td>\n",
              "      <td>61.504343</td>\n",
              "      <td>0.000000</td>\n",
              "      <td>Pensioner</td>\n",
              "      <td>Higher education</td>\n",
              "      <td>Separated</td>\n",
              "      <td>House / apartment</td>\n",
              "      <td>Other</td>\n",
              "      <td>0</td>\n",
              "    </tr>\n",
              "    <tr>\n",
              "      <th>4</th>\n",
              "      <td>4</td>\n",
              "      <td>5008815</td>\n",
              "      <td>M</td>\n",
              "      <td>Y</td>\n",
              "      <td>Y</td>\n",
              "      <td>Y</td>\n",
              "      <td>Y</td>\n",
              "      <td>Y</td>\n",
              "      <td>N</td>\n",
              "      <td>0</td>\n",
              "      <td>...</td>\n",
              "      <td>5</td>\n",
              "      <td>270000.0</td>\n",
              "      <td>46.193967</td>\n",
              "      <td>2.105450</td>\n",
              "      <td>Working</td>\n",
              "      <td>Higher education</td>\n",
              "      <td>Married</td>\n",
              "      <td>House / apartment</td>\n",
              "      <td>Accountants</td>\n",
              "      <td>0</td>\n",
              "    </tr>\n",
              "  </tbody>\n",
              "</table>\n",
              "<p>5 rows × 21 columns</p>\n",
              "</div>"
            ],
            "text/plain": [
              "   Unnamed: 0       ID Gender Own_car Own_property Work_phone Phone Email  \\\n",
              "0           0  5008804      M       Y            Y          Y     N     N   \n",
              "1           1  5008806      M       Y            Y          N     N     N   \n",
              "2           2  5008808      F       N            Y          N     Y     Y   \n",
              "3           3  5008812      F       N            Y          N     N     N   \n",
              "4           4  5008815      M       Y            Y          Y     Y     Y   \n",
              "\n",
              "  Unemployed  Num_children  ...  Account_length  Total_income        Age  \\\n",
              "0          N             0  ...              15      427500.0  32.868574   \n",
              "1          N             0  ...              29      112500.0  58.793815   \n",
              "2          N             0  ...               4      270000.0  52.321403   \n",
              "3          Y             0  ...              20      283500.0  61.504343   \n",
              "4          N             0  ...               5      270000.0  46.193967   \n",
              "\n",
              "   Years_employed           Income_type                 Education_type  \\\n",
              "0       12.435574               Working               Higher education   \n",
              "1        3.104787               Working  Secondary / secondary special   \n",
              "2        8.353354  Commercial associate  Secondary / secondary special   \n",
              "3        0.000000             Pensioner               Higher education   \n",
              "4        2.105450               Working               Higher education   \n",
              "\n",
              "          Family_status       Housing_type Occupation_type Target  \n",
              "0        Civil marriage   Rented apartment           Other      1  \n",
              "1               Married  House / apartment  Security staff      0  \n",
              "2  Single / not married  House / apartment     Sales staff      0  \n",
              "3             Separated  House / apartment           Other      0  \n",
              "4               Married  House / apartment     Accountants      0  \n",
              "\n",
              "[5 rows x 21 columns]"
            ]
          },
          "execution_count": 158,
          "metadata": {},
          "output_type": "execute_result"
        }
      ],
      "source": [
        "data.head()"
      ]
    },
    {
      "cell_type": "code",
      "execution_count": null,
      "id": "37fe2803",
      "metadata": {
        "id": "37fe2803",
        "outputId": "4c1e22aa-6ce8-43be-de58-2ecaea24524f"
      },
      "outputs": [
        {
          "name": "stdout",
          "output_type": "stream",
          "text": [
            "<class 'pandas.core.frame.DataFrame'>\n",
            "RangeIndex: 9709 entries, 0 to 9708\n",
            "Data columns (total 21 columns):\n",
            " #   Column           Non-Null Count  Dtype  \n",
            "---  ------           --------------  -----  \n",
            " 0   Unnamed: 0       9709 non-null   int64  \n",
            " 1   ID               9709 non-null   int64  \n",
            " 2   Gender           9709 non-null   object \n",
            " 3   Own_car          9709 non-null   object \n",
            " 4   Own_property     9709 non-null   object \n",
            " 5   Work_phone       9709 non-null   object \n",
            " 6   Phone            9709 non-null   object \n",
            " 7   Email            9709 non-null   object \n",
            " 8   Unemployed       9709 non-null   object \n",
            " 9   Num_children     9709 non-null   int64  \n",
            " 10  Num_family       9709 non-null   int64  \n",
            " 11  Account_length   9709 non-null   int64  \n",
            " 12  Total_income     9709 non-null   float64\n",
            " 13  Age              9709 non-null   float64\n",
            " 14  Years_employed   9709 non-null   float64\n",
            " 15  Income_type      9709 non-null   object \n",
            " 16  Education_type   9709 non-null   object \n",
            " 17  Family_status    9709 non-null   object \n",
            " 18  Housing_type     9709 non-null   object \n",
            " 19  Occupation_type  9709 non-null   object \n",
            " 20  Target           9709 non-null   int64  \n",
            "dtypes: float64(3), int64(6), object(12)\n",
            "memory usage: 1.6+ MB\n"
          ]
        }
      ],
      "source": [
        "data.info()"
      ]
    },
    {
      "cell_type": "markdown",
      "id": "c36b1a0d",
      "metadata": {
        "id": "c36b1a0d"
      },
      "source": [
        "# 2.2 Data Preparation\n",
        "The column \"Unemployment\" is repeated by the column of \"Years_employed\", drop the column \"Unemployed\"."
      ]
    },
    {
      "cell_type": "code",
      "execution_count": null,
      "id": "109c99c0",
      "metadata": {
        "id": "109c99c0"
      },
      "outputs": [],
      "source": [
        "new_data = data.drop(data.iloc[:, [0, 1, 8]], axis=1) #drop the index and ID columns and umemployment"
      ]
    },
    {
      "cell_type": "code",
      "execution_count": null,
      "id": "1b3d0111",
      "metadata": {
        "scrolled": true,
        "id": "1b3d0111",
        "outputId": "6c0b1f65-ea95-42e1-d7ec-d9e1869df5e3"
      },
      "outputs": [
        {
          "data": {
            "text/html": [
              "<div>\n",
              "<style scoped>\n",
              "    .dataframe tbody tr th:only-of-type {\n",
              "        vertical-align: middle;\n",
              "    }\n",
              "\n",
              "    .dataframe tbody tr th {\n",
              "        vertical-align: top;\n",
              "    }\n",
              "\n",
              "    .dataframe thead th {\n",
              "        text-align: right;\n",
              "    }\n",
              "</style>\n",
              "<table border=\"1\" class=\"dataframe\">\n",
              "  <thead>\n",
              "    <tr style=\"text-align: right;\">\n",
              "      <th></th>\n",
              "      <th>Gender</th>\n",
              "      <th>Own_car</th>\n",
              "      <th>Own_property</th>\n",
              "      <th>Work_phone</th>\n",
              "      <th>Phone</th>\n",
              "      <th>Email</th>\n",
              "      <th>Num_children</th>\n",
              "      <th>Num_family</th>\n",
              "      <th>Account_length</th>\n",
              "      <th>Total_income</th>\n",
              "      <th>Age</th>\n",
              "      <th>Years_employed</th>\n",
              "      <th>Income_type</th>\n",
              "      <th>Education_type</th>\n",
              "      <th>Family_status</th>\n",
              "      <th>Housing_type</th>\n",
              "      <th>Occupation_type</th>\n",
              "      <th>Target</th>\n",
              "    </tr>\n",
              "  </thead>\n",
              "  <tbody>\n",
              "    <tr>\n",
              "      <th>0</th>\n",
              "      <td>M</td>\n",
              "      <td>Y</td>\n",
              "      <td>Y</td>\n",
              "      <td>Y</td>\n",
              "      <td>N</td>\n",
              "      <td>N</td>\n",
              "      <td>0</td>\n",
              "      <td>2</td>\n",
              "      <td>15</td>\n",
              "      <td>427500.0</td>\n",
              "      <td>32.868574</td>\n",
              "      <td>12.435574</td>\n",
              "      <td>Working</td>\n",
              "      <td>Higher education</td>\n",
              "      <td>Civil marriage</td>\n",
              "      <td>Rented apartment</td>\n",
              "      <td>Other</td>\n",
              "      <td>1</td>\n",
              "    </tr>\n",
              "    <tr>\n",
              "      <th>1</th>\n",
              "      <td>M</td>\n",
              "      <td>Y</td>\n",
              "      <td>Y</td>\n",
              "      <td>N</td>\n",
              "      <td>N</td>\n",
              "      <td>N</td>\n",
              "      <td>0</td>\n",
              "      <td>2</td>\n",
              "      <td>29</td>\n",
              "      <td>112500.0</td>\n",
              "      <td>58.793815</td>\n",
              "      <td>3.104787</td>\n",
              "      <td>Working</td>\n",
              "      <td>Secondary / secondary special</td>\n",
              "      <td>Married</td>\n",
              "      <td>House / apartment</td>\n",
              "      <td>Security staff</td>\n",
              "      <td>0</td>\n",
              "    </tr>\n",
              "    <tr>\n",
              "      <th>2</th>\n",
              "      <td>F</td>\n",
              "      <td>N</td>\n",
              "      <td>Y</td>\n",
              "      <td>N</td>\n",
              "      <td>Y</td>\n",
              "      <td>Y</td>\n",
              "      <td>0</td>\n",
              "      <td>1</td>\n",
              "      <td>4</td>\n",
              "      <td>270000.0</td>\n",
              "      <td>52.321403</td>\n",
              "      <td>8.353354</td>\n",
              "      <td>Commercial associate</td>\n",
              "      <td>Secondary / secondary special</td>\n",
              "      <td>Single / not married</td>\n",
              "      <td>House / apartment</td>\n",
              "      <td>Sales staff</td>\n",
              "      <td>0</td>\n",
              "    </tr>\n",
              "    <tr>\n",
              "      <th>3</th>\n",
              "      <td>F</td>\n",
              "      <td>N</td>\n",
              "      <td>Y</td>\n",
              "      <td>N</td>\n",
              "      <td>N</td>\n",
              "      <td>N</td>\n",
              "      <td>0</td>\n",
              "      <td>1</td>\n",
              "      <td>20</td>\n",
              "      <td>283500.0</td>\n",
              "      <td>61.504343</td>\n",
              "      <td>0.000000</td>\n",
              "      <td>Pensioner</td>\n",
              "      <td>Higher education</td>\n",
              "      <td>Separated</td>\n",
              "      <td>House / apartment</td>\n",
              "      <td>Other</td>\n",
              "      <td>0</td>\n",
              "    </tr>\n",
              "    <tr>\n",
              "      <th>4</th>\n",
              "      <td>M</td>\n",
              "      <td>Y</td>\n",
              "      <td>Y</td>\n",
              "      <td>Y</td>\n",
              "      <td>Y</td>\n",
              "      <td>Y</td>\n",
              "      <td>0</td>\n",
              "      <td>2</td>\n",
              "      <td>5</td>\n",
              "      <td>270000.0</td>\n",
              "      <td>46.193967</td>\n",
              "      <td>2.105450</td>\n",
              "      <td>Working</td>\n",
              "      <td>Higher education</td>\n",
              "      <td>Married</td>\n",
              "      <td>House / apartment</td>\n",
              "      <td>Accountants</td>\n",
              "      <td>0</td>\n",
              "    </tr>\n",
              "  </tbody>\n",
              "</table>\n",
              "</div>"
            ],
            "text/plain": [
              "  Gender Own_car Own_property Work_phone Phone Email  Num_children  \\\n",
              "0      M       Y            Y          Y     N     N             0   \n",
              "1      M       Y            Y          N     N     N             0   \n",
              "2      F       N            Y          N     Y     Y             0   \n",
              "3      F       N            Y          N     N     N             0   \n",
              "4      M       Y            Y          Y     Y     Y             0   \n",
              "\n",
              "   Num_family  Account_length  Total_income        Age  Years_employed  \\\n",
              "0           2              15      427500.0  32.868574       12.435574   \n",
              "1           2              29      112500.0  58.793815        3.104787   \n",
              "2           1               4      270000.0  52.321403        8.353354   \n",
              "3           1              20      283500.0  61.504343        0.000000   \n",
              "4           2               5      270000.0  46.193967        2.105450   \n",
              "\n",
              "            Income_type                 Education_type         Family_status  \\\n",
              "0               Working               Higher education        Civil marriage   \n",
              "1               Working  Secondary / secondary special               Married   \n",
              "2  Commercial associate  Secondary / secondary special  Single / not married   \n",
              "3             Pensioner               Higher education             Separated   \n",
              "4               Working               Higher education               Married   \n",
              "\n",
              "        Housing_type Occupation_type  Target  \n",
              "0   Rented apartment           Other       1  \n",
              "1  House / apartment  Security staff       0  \n",
              "2  House / apartment     Sales staff       0  \n",
              "3  House / apartment           Other       0  \n",
              "4  House / apartment     Accountants       0  "
            ]
          },
          "execution_count": 161,
          "metadata": {},
          "output_type": "execute_result"
        }
      ],
      "source": [
        "new_data.head()"
      ]
    },
    {
      "cell_type": "code",
      "execution_count": null,
      "id": "74b2aff3",
      "metadata": {
        "scrolled": false,
        "id": "74b2aff3",
        "outputId": "49fe4719-1cf9-4a14-e287-a7b79dc6ad46"
      },
      "outputs": [
        {
          "name": "stdout",
          "output_type": "stream",
          "text": [
            "<class 'pandas.core.frame.DataFrame'>\n",
            "RangeIndex: 9709 entries, 0 to 9708\n",
            "Data columns (total 18 columns):\n",
            " #   Column           Non-Null Count  Dtype  \n",
            "---  ------           --------------  -----  \n",
            " 0   Gender           9709 non-null   object \n",
            " 1   Own_car          9709 non-null   object \n",
            " 2   Own_property     9709 non-null   object \n",
            " 3   Work_phone       9709 non-null   object \n",
            " 4   Phone            9709 non-null   object \n",
            " 5   Email            9709 non-null   object \n",
            " 6   Num_children     9709 non-null   int64  \n",
            " 7   Num_family       9709 non-null   int64  \n",
            " 8   Account_length   9709 non-null   int64  \n",
            " 9   Total_income     9709 non-null   float64\n",
            " 10  Age              9709 non-null   float64\n",
            " 11  Years_employed   9709 non-null   float64\n",
            " 12  Income_type      9709 non-null   object \n",
            " 13  Education_type   9709 non-null   object \n",
            " 14  Family_status    9709 non-null   object \n",
            " 15  Housing_type     9709 non-null   object \n",
            " 16  Occupation_type  9709 non-null   object \n",
            " 17  Target           9709 non-null   int64  \n",
            "dtypes: float64(3), int64(4), object(11)\n",
            "memory usage: 1.3+ MB\n"
          ]
        }
      ],
      "source": [
        "new_data.info() #18 columns left"
      ]
    },
    {
      "cell_type": "markdown",
      "id": "ae1d5c46",
      "metadata": {
        "id": "ae1d5c46"
      },
      "source": [
        "Calculate the default rate of the data set."
      ]
    },
    {
      "cell_type": "code",
      "execution_count": null,
      "id": "4623e427",
      "metadata": {
        "id": "4623e427",
        "outputId": "7499507b-1dbc-417d-815c-05bd7d1211bc"
      },
      "outputs": [
        {
          "data": {
            "text/plain": [
              "0.132145432073334"
            ]
          },
          "execution_count": 163,
          "metadata": {},
          "output_type": "execute_result"
        }
      ],
      "source": [
        "default_rate = (new_data['Target']==1).sum() / len(new_data['Target'])\n",
        "default_rate"
      ]
    },
    {
      "cell_type": "markdown",
      "id": "2ebdc22b",
      "metadata": {
        "id": "2ebdc22b"
      },
      "source": [
        "Use the train_test_split() function in Scikit-Learn to create a train/test set"
      ]
    },
    {
      "cell_type": "code",
      "execution_count": null,
      "id": "9fa41206",
      "metadata": {
        "scrolled": true,
        "id": "9fa41206"
      },
      "outputs": [],
      "source": [
        "from sklearn.model_selection import train_test_split\n",
        "train_set, test_set = train_test_split(new_data, test_size = 0.2, random_state = 42)"
      ]
    },
    {
      "cell_type": "code",
      "execution_count": null,
      "id": "03b8f751",
      "metadata": {
        "scrolled": false,
        "id": "03b8f751",
        "outputId": "3efd02c2-2e16-4c92-d084-55746b43b070"
      },
      "outputs": [
        {
          "name": "stdout",
          "output_type": "stream",
          "text": [
            "<class 'pandas.core.frame.DataFrame'>\n",
            "Int64Index: 7767 entries, 3467 to 7270\n",
            "Data columns (total 18 columns):\n",
            " #   Column           Non-Null Count  Dtype  \n",
            "---  ------           --------------  -----  \n",
            " 0   Gender           7767 non-null   object \n",
            " 1   Own_car          7767 non-null   object \n",
            " 2   Own_property     7767 non-null   object \n",
            " 3   Work_phone       7767 non-null   object \n",
            " 4   Phone            7767 non-null   object \n",
            " 5   Email            7767 non-null   object \n",
            " 6   Num_children     7767 non-null   int64  \n",
            " 7   Num_family       7767 non-null   int64  \n",
            " 8   Account_length   7767 non-null   int64  \n",
            " 9   Total_income     7767 non-null   float64\n",
            " 10  Age              7767 non-null   float64\n",
            " 11  Years_employed   7767 non-null   float64\n",
            " 12  Income_type      7767 non-null   object \n",
            " 13  Education_type   7767 non-null   object \n",
            " 14  Family_status    7767 non-null   object \n",
            " 15  Housing_type     7767 non-null   object \n",
            " 16  Occupation_type  7767 non-null   object \n",
            " 17  Target           7767 non-null   int64  \n",
            "dtypes: float64(3), int64(4), object(11)\n",
            "memory usage: 1.1+ MB\n",
            "<class 'pandas.core.frame.DataFrame'>\n",
            "Int64Index: 1942 entries, 7591 to 2273\n",
            "Data columns (total 18 columns):\n",
            " #   Column           Non-Null Count  Dtype  \n",
            "---  ------           --------------  -----  \n",
            " 0   Gender           1942 non-null   object \n",
            " 1   Own_car          1942 non-null   object \n",
            " 2   Own_property     1942 non-null   object \n",
            " 3   Work_phone       1942 non-null   object \n",
            " 4   Phone            1942 non-null   object \n",
            " 5   Email            1942 non-null   object \n",
            " 6   Num_children     1942 non-null   int64  \n",
            " 7   Num_family       1942 non-null   int64  \n",
            " 8   Account_length   1942 non-null   int64  \n",
            " 9   Total_income     1942 non-null   float64\n",
            " 10  Age              1942 non-null   float64\n",
            " 11  Years_employed   1942 non-null   float64\n",
            " 12  Income_type      1942 non-null   object \n",
            " 13  Education_type   1942 non-null   object \n",
            " 14  Family_status    1942 non-null   object \n",
            " 15  Housing_type     1942 non-null   object \n",
            " 16  Occupation_type  1942 non-null   object \n",
            " 17  Target           1942 non-null   int64  \n",
            "dtypes: float64(3), int64(4), object(11)\n",
            "memory usage: 288.3+ KB\n"
          ]
        },
        {
          "data": {
            "text/plain": [
              "(None, None)"
            ]
          },
          "execution_count": 165,
          "metadata": {},
          "output_type": "execute_result"
        }
      ],
      "source": [
        "train_set.info(), test_set.info()"
      ]
    },
    {
      "cell_type": "markdown",
      "id": "1827f98b",
      "metadata": {
        "id": "1827f98b"
      },
      "source": [
        "Design a pipeline for preprocessing that applies one hot encoding to the categorical features and a standard scaler to the numerical features"
      ]
    },
    {
      "cell_type": "code",
      "execution_count": null,
      "id": "3d82e386",
      "metadata": {
        "id": "3d82e386"
      },
      "outputs": [],
      "source": [
        "X_raw_train = train_set.drop(\"Target\", axis=1)\n",
        "X_raw_test = test_set.drop(\"Target\", axis=1)\n",
        "\n",
        "y_train = train_set[\"Target\"]\n",
        "y_test = test_set[\"Target\"]"
      ]
    },
    {
      "cell_type": "code",
      "execution_count": null,
      "id": "846e4d48",
      "metadata": {
        "id": "846e4d48",
        "outputId": "3c935d9e-c01c-47de-b990-e94ccae51d10"
      },
      "outputs": [
        {
          "data": {
            "text/plain": [
              "(7767, 17)"
            ]
          },
          "execution_count": 167,
          "metadata": {},
          "output_type": "execute_result"
        }
      ],
      "source": [
        "X_raw_train.shape"
      ]
    },
    {
      "cell_type": "code",
      "execution_count": null,
      "id": "bccfd646",
      "metadata": {
        "id": "bccfd646",
        "outputId": "04992721-6e8f-4b62-eb55-f102e3fa5737"
      },
      "outputs": [
        {
          "data": {
            "text/plain": [
              "(1942, 17)"
            ]
          },
          "execution_count": 168,
          "metadata": {},
          "output_type": "execute_result"
        }
      ],
      "source": [
        "X_raw_test.shape"
      ]
    },
    {
      "cell_type": "code",
      "execution_count": null,
      "id": "e9c26564",
      "metadata": {
        "id": "e9c26564"
      },
      "outputs": [],
      "source": [
        "X_raw_train_num = X_raw_train[[\"Num_children\", \"Num_family\", \"Account_length\", \"Total_income\", \"Age\", \"Years_employed\"]]\n",
        "X_raw_train_cat = X_raw_train.drop(columns=[\"Num_children\", \"Num_family\", \"Account_length\", \"Total_income\", \"Age\", \"Years_employed\"])"
      ]
    },
    {
      "cell_type": "markdown",
      "id": "f0b39c44",
      "metadata": {
        "id": "f0b39c44"
      },
      "source": [
        "Build a pipeline for preprocessing the numerical attributes and categorical features"
      ]
    },
    {
      "cell_type": "code",
      "execution_count": null,
      "id": "2bd6d60f",
      "metadata": {
        "id": "2bd6d60f"
      },
      "outputs": [],
      "source": [
        "from sklearn.pipeline import Pipeline\n",
        "from sklearn.preprocessing import StandardScaler\n",
        "#from sklearn.preprocessing import OneHotEncoder  # X_train AND X_test have different dimensions if using \"OneHotEncoder\"!!!\n",
        "from sklearn.preprocessing import OrdinalEncoder\n",
        "from sklearn.compose import ColumnTransformer\n",
        "\n",
        "num_attribs = list(X_raw_train_num)\n",
        "cat_attribs = list(X_raw_train_cat)\n",
        "\n",
        "full_pipeline = ColumnTransformer([\n",
        "    (\"num\", StandardScaler(), num_attribs),\n",
        "    (\"cat\", OrdinalEncoder(), cat_attribs)\n",
        "    ])\n",
        "X_train = full_pipeline.fit_transform(X_raw_train)\n",
        "X_test = full_pipeline.fit_transform(X_raw_test)"
      ]
    },
    {
      "cell_type": "code",
      "execution_count": null,
      "id": "e39b15f9",
      "metadata": {
        "id": "e39b15f9",
        "outputId": "ff3928be-47f0-472d-e3ad-48b342003096"
      },
      "outputs": [
        {
          "data": {
            "text/plain": [
              "(7767, 17)"
            ]
          },
          "execution_count": 171,
          "metadata": {},
          "output_type": "execute_result"
        }
      ],
      "source": [
        "X_train.shape"
      ]
    },
    {
      "cell_type": "code",
      "execution_count": null,
      "id": "05cbdae5",
      "metadata": {
        "id": "05cbdae5",
        "outputId": "b43419f4-b926-4cf4-f21c-efa114486618"
      },
      "outputs": [
        {
          "data": {
            "text/plain": [
              "(1942, 17)"
            ]
          },
          "execution_count": 172,
          "metadata": {},
          "output_type": "execute_result"
        }
      ],
      "source": [
        "X_test.shape"
      ]
    },
    {
      "cell_type": "markdown",
      "id": "e8bafabe",
      "metadata": {
        "id": "e8bafabe"
      },
      "source": [
        "# 3. Analysis Process"
      ]
    },
    {
      "cell_type": "markdown",
      "id": "2bdf8258",
      "metadata": {
        "id": "2bdf8258"
      },
      "source": [
        "# 3.1  Train the Classification Models\n",
        "\n",
        "Four classifiers in my project.\n",
        "\n",
        "(i) Random forest classifier\n",
        "\n",
        "(ii) Extra trees classifier\n",
        "\n",
        "(iii) AdaBoost classifier\n",
        "\n",
        "(iv) Graident boost classifier\n",
        "\n",
        "(i) Logistic Regression\n",
        "\n",
        "Note that using the roc_auc_score() method below is the same as doing accuracy_score(y_test, forest.predict(X_test))"
      ]
    },
    {
      "cell_type": "code",
      "execution_count": null,
      "id": "2ce1353f",
      "metadata": {
        "id": "2ce1353f"
      },
      "outputs": [],
      "source": [
        "from sklearn.ensemble import RandomForestClassifier\n",
        "from sklearn.ensemble import ExtraTreesClassifier\n",
        "from sklearn.ensemble import AdaBoostClassifier\n",
        "from sklearn.ensemble import GradientBoostingClassifier\n",
        "from sklearn.linear_model import LogisticRegression\n",
        "logistic = LogisticRegression(random_state=42)\n",
        "\n",
        "\n",
        "from sklearn.model_selection import cross_val_predict\n",
        "from sklearn.metrics import roc_curve\n",
        "from sklearn.metrics import roc_auc_score\n",
        "from sklearn.metrics import accuracy_score"
      ]
    },
    {
      "cell_type": "code",
      "execution_count": null,
      "id": "9358074c",
      "metadata": {
        "id": "9358074c",
        "outputId": "7faa2251-6d4f-4de6-9f71-a791753a618c"
      },
      "outputs": [
        {
          "name": "stdout",
          "output_type": "stream",
          "text": [
            "Wall time: 531 ms\n",
            "Wall time: 366 ms\n",
            "Wall time: 367 ms\n",
            "Wall time: 78.2 ms\n",
            "Wall time: 46.8 ms\n"
          ]
        },
        {
          "data": {
            "text/plain": [
              "LogisticRegression(random_state=42)"
            ]
          },
          "execution_count": 174,
          "metadata": {},
          "output_type": "execute_result"
        }
      ],
      "source": [
        "forest = RandomForestClassifier(n_estimators=100, n_jobs=-1, random_state=42)\n",
        "%time forest.fit(X_train, y_train)\n",
        "\n",
        "extratrees = ExtraTreesClassifier(n_estimators=100, n_jobs=-1, random_state=42)\n",
        "%time extratrees.fit(X_train, y_train)\n",
        "\n",
        "ada = AdaBoostClassifier(n_estimators=50, learning_rate=0.2, random_state=42)\n",
        "%time ada.fit(X_train, y_train)\n",
        "\n",
        "gb = GradientBoostingClassifier(max_depth=2, n_estimators=10, learning_rate=0.25, random_state=42)\n",
        "%time gb.fit(X_train, y_train)\n",
        "\n",
        "%time logistic.fit(X_train, y_train)"
      ]
    },
    {
      "cell_type": "code",
      "execution_count": null,
      "id": "ff6ce1a9",
      "metadata": {
        "id": "ff6ce1a9"
      },
      "outputs": [],
      "source": [
        "# Do the cross validation prediction of each instance using 10-fold CV.\n",
        "y_pred_forest = cross_val_predict(forest, X_train, y_train, cv=10)\n",
        "y_pred_extratrees = cross_val_predict(extratrees, X_train, y_train, cv=10)\n",
        "y_pred_ada = cross_val_predict(ada, X_train, y_train, cv=10)\n",
        "y_pred_gb = cross_val_predict(gb, X_train, y_train, cv=10)\n",
        "y_pred_logistic = cross_val_predict(logistic, X_train, y_train, cv=10, method=\"decision_function\")"
      ]
    },
    {
      "cell_type": "markdown",
      "id": "353448ba",
      "metadata": {
        "id": "353448ba"
      },
      "source": [
        "##### Compute Area Under the Receiver Operating Characteristic Curve (ROC AUC) from prediction scores for the 5 models"
      ]
    },
    {
      "cell_type": "code",
      "execution_count": null,
      "id": "9907b9e2",
      "metadata": {
        "id": "9907b9e2",
        "outputId": "e9f01660-de25-4329-ebea-744ea290b13b"
      },
      "outputs": [
        {
          "data": {
            "image/png": "[encoded data removed]",
            "text/plain": [
              "<Figure size 576x432 with 1 Axes>"
            ]
          },
          "metadata": {
            "needs_background": "light"
          },
          "output_type": "display_data"
        }
      ],
      "source": [
        "import matplotlib.pyplot as plt\n",
        "%matplotlib inline\n",
        "\n",
        "plt.figure(figsize=(8, 6))\n",
        "\n",
        "fpr, tpr, thresholds = roc_curve(y_train,y_pred_forest)\n",
        "plt.plot(fpr, tpr, \"b--\", label=\"Random\")\n",
        "\n",
        "fpr, tpr, thresholds = roc_curve(y_train,y_pred_extratrees)\n",
        "plt.plot(fpr, tpr, \"g--\", label=\"Extratree\")\n",
        "\n",
        "fpr, tpr, thresholds = roc_curve(y_train,y_pred_ada)\n",
        "plt.plot(fpr, tpr, \"p--\", label=\"Ada\")\n",
        "\n",
        "fpr, tpr, thresholds = roc_curve(y_train,y_pred_gb)\n",
        "plt.plot(fpr, tpr, \"o--\", label=\"GradB\")\n",
        "\n",
        "fpr, tpr, thresholds = roc_curve(y_train,y_pred_logistic)\n",
        "plt.plot(fpr, tpr, \"r-\", label=\"Logistic\")\n",
        "\n",
        "plt.xlabel(\"FPR\", fontsize=16)\n",
        "plt.ylabel(\"TPR\", fontsize=16)\n",
        "plt.legend(loc=\"lower right\", fontsize=16)\n",
        "plt.axis([0, 1, 0, 1])\n",
        "plt.show()"
      ]
    },
    {
      "cell_type": "code",
      "execution_count": null,
      "id": "c27b5b3e",
      "metadata": {
        "scrolled": true,
        "id": "c27b5b3e",
        "outputId": "5731fe55-03b0-4264-aa5e-c511c9ff14b2"
      },
      "outputs": [
        {
          "name": "stdout",
          "output_type": "stream",
          "text": [
            "ROC AUC RandomForestClassifier: 0.5004827840993055\n",
            "ROC AUC ExtraTreesClassifier: 0.5028967045958328\n",
            "ROC AUC AdaBoostClassifier: 0.4999261120141865\n",
            "ROC AUC GradientBoostingClassifier: 0.5018522240283729\n",
            "ROC AUC logistic: 0.5794875129303975\n"
          ]
        }
      ],
      "source": [
        "print(\"ROC AUC RandomForestClassifier:\",roc_auc_score(y_train, y_pred_forest))\n",
        "print(\"ROC AUC ExtraTreesClassifier:\",roc_auc_score(y_train, y_pred_extratrees))\n",
        "print(\"ROC AUC AdaBoostClassifier:\",roc_auc_score(y_train, y_pred_ada))\n",
        "print(\"ROC AUC GradientBoostingClassifier:\",roc_auc_score(y_train, y_pred_gb))\n",
        "print(\"ROC AUC logistic:\",roc_auc_score(y_train, y_pred_logistic))"
      ]
    },
    {
      "cell_type": "markdown",
      "id": "c5473dfc",
      "metadata": {
        "id": "c5473dfc"
      },
      "source": [
        "From the above results, we can tell that Logistic Regression model is the best model.\n",
        "\n",
        "Then focus on the best model to search for the best hyperparameter."
      ]
    },
    {
      "cell_type": "code",
      "execution_count": null,
      "id": "f5628bd3",
      "metadata": {
        "id": "f5628bd3",
        "outputId": "b3155d74-504e-4a4e-da29-3dae2b2d14ce"
      },
      "outputs": [
        {
          "name": "stdout",
          "output_type": "stream",
          "text": [
            "Accuracy score for train set: 0.8712501609372988\n",
            "Accuracy score for test set: 0.8542739443872297\n",
            "Default rate of the data set: 0.132145432073334\n"
          ]
        }
      ],
      "source": [
        "y_pred_train = cross_val_predict(logistic, X_train, y_train, cv=10)\n",
        "y_pred_test = cross_val_predict(logistic, X_test, y_test, cv=10)\n",
        "\n",
        "print(\"Accuracy score for train set:\",accuracy_score(y_train, y_pred_train))\n",
        "print(\"Accuracy score for test set:\",accuracy_score(y_test, y_pred_test))\n",
        "print(\"Default rate of the data set:\",default_rate)"
      ]
    },
    {
      "cell_type": "markdown",
      "id": "1fa0b03b",
      "metadata": {
        "id": "1fa0b03b"
      },
      "source": [
        "The best model is the Logistic Regression.\n",
        "\n",
        "And from the results of the accuracy score values, we could see a slight overfitting of the best model."
      ]
    },
    {
      "cell_type": "markdown",
      "id": "067cfdc5",
      "metadata": {
        "id": "067cfdc5"
      },
      "source": [
        "\n",
        "# 4 Tuning Model for the Best Hyperparameter"
      ]
    },
    {
      "cell_type": "markdown",
      "id": "460e1168",
      "metadata": {
        "id": "460e1168"
      },
      "source": [
        "From the results from step 3, the Logistic regression model is the best model.\n",
        "\n",
        "Then go to find the best hyperparameter for the Logistic regression model."
      ]
    },
    {
      "cell_type": "code",
      "execution_count": null,
      "id": "5b5ea731",
      "metadata": {
        "id": "5b5ea731",
        "outputId": "5f09ee9a-dc88-4137-fe8c-dad57857af8d"
      },
      "outputs": [
        {
          "name": "stdout",
          "output_type": "stream",
          "text": [
            "Fitting 3 folds for each of 11 candidates, totalling 33 fits\n"
          ]
        },
        {
          "name": "stderr",
          "output_type": "stream",
          "text": [
            "C:\\ANACONDA\\anaconda3\\lib\\site-packages\\sklearn\\model_selection\\_search.py:922: UserWarning: One or more of the test scores are non-finite: [       nan 0.87125016 0.87125016 0.87125016 0.87125016 0.87125016\n",
            " 0.87125016 0.87125016 0.87125016 0.87125016 0.87125016]\n",
            "  warnings.warn(\n"
          ]
        },
        {
          "name": "stdout",
          "output_type": "stream",
          "text": [
            "Wall time: 1.96 s\n"
          ]
        },
        {
          "data": {
            "text/plain": [
              "GridSearchCV(cv=3, estimator=LogisticRegression(max_iter=5000), n_jobs=-1,\n",
              "             param_grid={'C': array([0. , 0.1, 0.2, 0.3, 0.4, 0.5, 0.6, 0.7, 0.8, 0.9, 1. ])},\n",
              "             verbose=2)"
            ]
          },
          "execution_count": 179,
          "metadata": {},
          "output_type": "execute_result"
        }
      ],
      "source": [
        "import numpy as np\n",
        "from scipy.stats import uniform\n",
        "from sklearn.model_selection import GridSearchCV\n",
        "# Create the parameter grid based on the results of random search\n",
        "\n",
        "logis = LogisticRegression(max_iter=5000)\n",
        "param_grid = {\"C\": np.arange (0, 1.1, 0.1)}\n",
        "\n",
        "# The grid search model\n",
        "grid_search = GridSearchCV(logis, param_grid,\n",
        "                                  cv=3,\n",
        "                                  verbose=2, n_jobs=-1)\n",
        "%time grid_search.fit(X_train, y_train)"
      ]
    },
    {
      "cell_type": "code",
      "execution_count": null,
      "id": "6578edca",
      "metadata": {
        "scrolled": true,
        "id": "6578edca",
        "outputId": "5b8d13bb-0271-4b5b-89d2-91035c791383"
      },
      "outputs": [
        {
          "name": "stdout",
          "output_type": "stream",
          "text": [
            "{'C': 0.1}\n"
          ]
        }
      ],
      "source": [
        "print(grid_search.best_params_)"
      ]
    },
    {
      "cell_type": "code",
      "execution_count": null,
      "id": "36a497c5",
      "metadata": {
        "scrolled": true,
        "id": "36a497c5",
        "outputId": "7f855b8d-87ab-430f-af7e-bb23c78d89de"
      },
      "outputs": [
        {
          "name": "stdout",
          "output_type": "stream",
          "text": [
            "0.8712501609372989\n"
          ]
        }
      ],
      "source": [
        "print(grid_search.best_score_)"
      ]
    },
    {
      "cell_type": "code",
      "execution_count": null,
      "id": "5de35539",
      "metadata": {
        "id": "5de35539",
        "outputId": "c92fe8cf-ca44-485f-c9ee-b5d96baca0c3"
      },
      "outputs": [
        {
          "name": "stdout",
          "output_type": "stream",
          "text": [
            "Wall time: 79.4 ms\n"
          ]
        },
        {
          "data": {
            "text/plain": [
              "LogisticRegression(C=0.1, max_iter=5000)"
            ]
          },
          "execution_count": 182,
          "metadata": {},
          "output_type": "execute_result"
        }
      ],
      "source": [
        "logistic_2 = LogisticRegression(C=0.1,max_iter=5000)\n",
        "%time logistic_2.fit(X_train, y_train)"
      ]
    },
    {
      "cell_type": "code",
      "execution_count": null,
      "id": "2486a440",
      "metadata": {
        "id": "2486a440",
        "outputId": "63c28922-a51d-42bc-920e-8802a8170013"
      },
      "outputs": [
        {
          "name": "stdout",
          "output_type": "stream",
          "text": [
            "ROC AUC logistic After Tuning model: 0.5795197280922122\n",
            "ROC AUC logistic Before Tuning model: 0.5794875129303975\n"
          ]
        }
      ],
      "source": [
        "y_pred_logistic_2 = cross_val_predict(logistic_2, X_train, y_train, cv=10, method=\"decision_function\")\n",
        "y_pred_logistic = cross_val_predict(logistic, X_train, y_train, cv=10, method=\"decision_function\")\n",
        "print(\"ROC AUC logistic After Tuning model:\",roc_auc_score(y_train, y_pred_logistic_2))\n",
        "print(\"ROC AUC logistic Before Tuning model:\",roc_auc_score(y_train, y_pred_logistic))\n"
      ]
    },
    {
      "cell_type": "code",
      "execution_count": null,
      "id": "a82693f0",
      "metadata": {
        "scrolled": false,
        "id": "a82693f0",
        "outputId": "df8029bf-b59d-429f-f087-6b79fe4eb93b"
      },
      "outputs": [
        {
          "data": {
            "image/png": "[encoded data removed]",
            "text/plain": [
              "<Figure size 576x432 with 1 Axes>"
            ]
          },
          "metadata": {
            "needs_background": "light"
          },
          "output_type": "display_data"
        }
      ],
      "source": [
        "import matplotlib.pyplot as plt\n",
        "%matplotlib inline\n",
        "\n",
        "plt.figure(figsize=(8, 6))\n",
        "\n",
        "fpr, tpr, thresholds = roc_curve(y_train,y_pred_logistic)\n",
        "plt.plot(fpr, tpr, \"b--\", label=\"Before tuning\")\n",
        "\n",
        "fpr, tpr, thresholds = roc_curve(y_train,y_pred_logistic_2)\n",
        "plt.plot(fpr, tpr, \"r-\", label=\"After tuning\")\n",
        "\n",
        "plt.xlabel(\"FPR\", fontsize=16)\n",
        "plt.ylabel(\"TPR\", fontsize=16)\n",
        "plt.legend(loc=\"lower right\", fontsize=16)\n",
        "plt.axis([0, 1, 0, 1])\n",
        "plt.show()"
      ]
    },
    {
      "cell_type": "markdown",
      "id": "57da4783",
      "metadata": {
        "id": "57da4783"
      },
      "source": [
        "We can see that the Logistic Regression Model with \"C\" equal to 0.1 has a slightly better performance than the model with the default value of \"C\" equal to 1."
      ]
    },
    {
      "cell_type": "code",
      "execution_count": null,
      "id": "f79fb085",
      "metadata": {
        "scrolled": true,
        "id": "f79fb085",
        "outputId": "b456fafa-e742-41e0-9e57-4340eec7a652"
      },
      "outputs": [
        {
          "name": "stdout",
          "output_type": "stream",
          "text": [
            "Accuracy score for test set Before Tuning model: 0.8542739443872297\n",
            "Accuracy score for test set After Tuning model: 0.8542739443872297\n",
            "Accuracy score for train set After Tuning model: 0.8712501609372988\n",
            "Default rate of the data set: 0.132145432073334\n"
          ]
        }
      ],
      "source": [
        "# Check the accuracy scores for the test set between before tuning the model and after tuning the model.\n",
        "y_pred_test_before = cross_val_predict(logistic, X_test, y_test, cv=10)\n",
        "y_pred_test_after = cross_val_predict(logistic_2, X_test, y_test, cv=10)\n",
        "y_pred_train_after = cross_val_predict(logistic_2, X_train, y_train, cv=10)\n",
        "\n",
        "print(\"Accuracy score for test set Before Tuning model:\",accuracy_score(y_test, y_pred_test_before))\n",
        "print(\"Accuracy score for test set After Tuning model:\",accuracy_score(y_test, y_pred_test_after))\n",
        "print(\"Accuracy score for train set After Tuning model:\",accuracy_score(y_train, y_pred_train_after))\n",
        "print(\"Default rate of the data set:\",default_rate)\n"
      ]
    },
    {
      "cell_type": "markdown",
      "id": "9cd63273",
      "metadata": {
        "id": "9cd63273"
      },
      "source": [
        "# 5 Conclusion\n",
        "1. From the above analysis, I use the ROC AUC score as the criteria to evaluate these five classifiers, the best model is the Logistic Regression modle with a ROC AUC score of 0.57948.\n",
        "\n",
        "2. After tuning the model to search for the best hyperparameter is \"C\" equal to 0.1, and has a little improvement for the model with the ROC AUC score is 0.57952.\n",
        "\n",
        "3. The accuracy scores for the train set of the tuned best model is 0.871, for the test set is 0.854.\n",
        "\n",
        "4. The true default rate of the data set is 13.2%, the accuracy rate for the test set is about 1.5% lower than the true case."
      ]
    },
    {
      "cell_type": "markdown",
      "id": "3af973b6",
      "metadata": {
        "id": "3af973b6"
      },
      "source": [
        "# Reference\n",
        "* https://www.kaggle.com/datasets/laotse/credit-card-approval (data set)\n",
        "* https://www.analyticsvidhya.com/blog/2020/03/beginners-guide-random-forest-hyperparameter-tuning/\n",
        "* https://scikit-learn.org/stable/modules/generated/sklearn.ensemble.RandomForestClassifier.html\n",
        "* https://scikit-learn.org/stable/modules/generated/sklearn.model_selection.GridSearchCV.html\n",
        "* https://scikit-learn.org/stable/modules/generated/sklearn.linear_model.LogisticRegression.html\n",
        "* https://towardsdatascience.com/understanding-auc-roc-curve-68b2303cc9c5"
      ]
    }
  ],
  "metadata": {
    "kernelspec": {
      "display_name": "Python 3 (ipykernel)",
      "language": "python",
      "name": "python3"
    },
    "language_info": {
      "codemirror_mode": {
        "name": "ipython",
        "version": 3
      },
      "file_extension": ".py",
      "mimetype": "text/x-python",
      "name": "python",
      "nbconvert_exporter": "python",
      "pygments_lexer": "ipython3",
      "version": "3.9.7"
    },
    "colab": {
      "provenance": []
    }
  },
  "nbformat": 4,
  "nbformat_minor": 5
}